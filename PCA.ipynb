{
 "cells": [
  {
   "cell_type": "code",
   "execution_count": 1,
   "id": "44d74147-73e5-4f48-a76a-df1db9c95623",
   "metadata": {},
   "outputs": [],
   "source": [
    "import numpy as np\n",
    "import matplotlib.pyplot as plt\n",
    "from sklearn.decomposition import PCA"
   ]
  },
  {
   "cell_type": "markdown",
   "id": "c4be4af1-f54d-41aa-beb9-f40dcd1064df",
   "metadata": {},
   "source": [
    "### 1. Cài đặt bằng tay"
   ]
  },
  {
   "cell_type": "code",
   "execution_count": 2,
   "id": "d87eb7d0-4477-461c-846e-cc277d9844ed",
   "metadata": {},
   "outputs": [
    {
     "data": {
      "text/plain": [
       "array([[ 94.96666667, -86.43333333,  10.5       ],\n",
       "       [-86.43333333, 152.56666667, -77.5       ],\n",
       "       [ 10.5       , -77.5       ,  87.5       ]])"
      ]
     },
     "execution_count": 2,
     "metadata": {},
     "output_type": "execute_result"
    }
   ],
   "source": [
    "data = np.array([[10,39,19,23,28,20],[43,13,32,21,20,10],[5,10,15,20,25,30]]).astype('float')\n",
    "\n",
    "data[0] = data[0]-np.mean(data[0])\n",
    "data[1] = data[1]-np.mean(data[1])\n",
    "data[2] = data[2] -np.mean(data[2])\n",
    "\n",
    "sz = len(data[0])-1\n",
    "\n",
    "xy = (data[0]*data[1]).sum()/sz\n",
    "xz = (data[0]*data[2]).sum()/sz\n",
    "yz = (data[1]*data[2]).sum()/sz\n",
    "\n",
    "xx,yy,zz = (data[0]**2/sz).sum(), (data[1]**2/sz).sum(), (data[2]**2).sum()/sz\n",
    "\n",
    "cov  = np.array([[xx,xy,xz],[xy,yy,yz],[xz,yz,zz]])\n",
    "cov "
   ]
  },
  {
   "cell_type": "code",
   "execution_count": 3,
   "id": "1fb98205-9d03-4a07-99c6-a384204089c3",
   "metadata": {},
   "outputs": [
    {
     "name": "stdout",
     "output_type": "stream",
     "text": [
      "[[-0.47371567  0.67887377  0.56100255]\n",
      " [ 0.77853003  0.02503069  0.62710801]\n",
      " [-0.4116849  -0.73382823  0.54038104]]\n"
     ]
    },
    {
     "data": {
      "text/plain": [
       "array([[ 26.82416316, -12.3279167 ,   9.8800428 ,  -2.6370747 ,\n",
       "         -7.84260759, -13.89660697],\n",
       "       [  0.73079026,  15.99806771,  -0.7729657 ,  -2.00194936,\n",
       "         -2.30175235, -11.65219056]])"
      ]
     },
     "execution_count": 3,
     "metadata": {},
     "output_type": "execute_result"
    }
   ],
   "source": [
    "w,v = np.linalg.eig(cov)\n",
    "print(v)\n",
    "\n",
    "v[:,[0,1]].T@data "
   ]
  },
  {
   "cell_type": "markdown",
   "id": "f2d170f7-e845-4c62-a48d-34f31a02ce7c",
   "metadata": {},
   "source": [
    "### 2. Sử dụng thư viện sklean"
   ]
  },
  {
   "cell_type": "code",
   "execution_count": 4,
   "id": "4bdc28b1-5d8c-4012-95b2-1ea14522de8a",
   "metadata": {},
   "outputs": [
    {
     "name": "stdout",
     "output_type": "stream",
     "text": [
      "Components:\n",
      "[[-0.47371567  0.77853003 -0.4116849 ]\n",
      " [ 0.67887377  0.02503069 -0.73382823]]\n",
      "Transformed data:\n"
     ]
    },
    {
     "data": {
      "text/plain": [
       "array([[ 26.82416316, -12.3279167 ,   9.8800428 ,  -2.6370747 ,\n",
       "         -7.84260759, -13.89660697],\n",
       "       [  0.73079026,  15.99806771,  -0.7729657 ,  -2.00194936,\n",
       "         -2.30175235, -11.65219056]])"
      ]
     },
     "execution_count": 4,
     "metadata": {},
     "output_type": "execute_result"
    }
   ],
   "source": [
    "data = data.astype(float)\n",
    "pca = PCA(n_components=2) \n",
    "data_pca = pca.fit_transform(data.T).T\n",
    "# In kết quả\n",
    "print(\"Components:\")\n",
    "print(pca.components_)\n",
    "print(\"Transformed data:\")\n",
    "\n",
    "data_pca"
   ]
  }
 ],
 "metadata": {
  "kernelspec": {
   "display_name": "Python 3 (ipykernel)",
   "language": "python",
   "name": "python3"
  },
  "language_info": {
   "codemirror_mode": {
    "name": "ipython",
    "version": 3
   },
   "file_extension": ".py",
   "mimetype": "text/x-python",
   "name": "python",
   "nbconvert_exporter": "python",
   "pygments_lexer": "ipython3",
   "version": "3.12.0"
  }
 },
 "nbformat": 4,
 "nbformat_minor": 5
}
